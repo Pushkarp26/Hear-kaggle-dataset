{
  "nbformat": 4,
  "nbformat_minor": 0,
  "metadata": {
    "colab": {
      "name": "Easy Text Summarization no punctuations.ipnyb",
      "provenance": [],
      "collapsed_sections": [],
      "mount_file_id": "1NQL63d6dGGGPY3QcZbn5HtvW-8LBeGne",
      "authorship_tag": "ABX9TyPXtC2kVfQNDGSDyWycdzRZ",
      "include_colab_link": true
    },
    "kernelspec": {
      "display_name": "Python 3",
      "name": "python3"
    },
    "accelerator": "TPU"
  },
  "cells": [
    {
      "cell_type": "markdown",
      "metadata": {
        "id": "view-in-github",
        "colab_type": "text"
      },
      "source": [
        "<a href=\"https://colab.research.google.com/github/Pushkarp26/IBM-CAPSTONE-/blob/master/Easy_Text_Summarization_no_punctuations_ipnyb.ipynb\" target=\"_parent\"><img src=\"https://colab.research.google.com/assets/colab-badge.svg\" alt=\"Open In Colab\"/></a>"
      ]
    },
    {
      "cell_type": "markdown",
      "metadata": {
        "id": "XqYvjG3aZQmy"
      },
      "source": [
        "We are going to use the pre-trained model on large texts such as **Transformers, BERT, T5, BART**.\r\n"
      ]
    },
    {
      "cell_type": "code",
      "metadata": {
        "colab": {
          "base_uri": "https://localhost:8080/"
        },
        "id": "7F2JdZXSYB8T",
        "outputId": "aa8254bb-bd63-4191-bc0f-385810d40f25"
      },
      "source": [
        "# Installing Libraries\r\n",
        "\r\n",
        "!pip install pyLDAvis\r\n",
        "# !apt-get install ocrmypdf -q\r\n",
        "!pip install pdfplumber -q\r\n",
        "!pip install transformers\r\n",
        "\r\n",
        "# Importing modules\r\n",
        "import pdfplumber\r\n",
        "import re\r\n",
        "import random\r\n",
        "import nltk\r\n",
        "nltk.download('stopwords')\r\n",
        "nltk.download('punkt')\r\n",
        "from nltk.corpus import stopwords\r\n",
        "from nltk.tokenize import word_tokenize \r\n",
        "from nltk.stem import WordNetLemmatizer\r\n",
        "nltk.download('wordnet') \r\n",
        "import pandas as pd\r\n",
        "import numpy as np\r\n",
        "import string,pprint\r\n",
        "import spacy\r\n",
        "!pip install gensim==3.8.0\r\n",
        "import gensim\r\n",
        "from gensim import corpora\r\n",
        "from transformers import GPT2Tokenizer, GPT2LMHeadModel\r\n",
        "# libraries for visualization\r\n",
        "import pyLDAvis\r\n",
        "import pyLDAvis.gensim\r\n",
        "import matplotlib.pyplot as plt\r\n",
        "import seaborn as sns\r\n",
        "%matplotlib inline"
      ],
      "execution_count": 1,
      "outputs": [
        {
          "output_type": "stream",
          "text": [
            "Requirement already satisfied: pyLDAvis in /usr/local/lib/python3.7/dist-packages (3.2.2)\n",
            "Requirement already satisfied: numpy>=1.9.2 in /usr/local/lib/python3.7/dist-packages (from pyLDAvis) (1.19.5)\n",
            "Requirement already satisfied: joblib>=0.8.4 in /usr/local/lib/python3.7/dist-packages (from pyLDAvis) (1.0.1)\n",
            "Requirement already satisfied: pandas>=0.17.0; python_version > \"3.5\" in /usr/local/lib/python3.7/dist-packages (from pyLDAvis) (1.1.5)\n",
            "Requirement already satisfied: scipy>=0.18.0 in /usr/local/lib/python3.7/dist-packages (from pyLDAvis) (1.4.1)\n",
            "Requirement already satisfied: wheel>=0.23.0 in /usr/local/lib/python3.7/dist-packages (from pyLDAvis) (0.36.2)\n",
            "Requirement already satisfied: numexpr in /usr/local/lib/python3.7/dist-packages (from pyLDAvis) (2.7.2)\n",
            "Requirement already satisfied: jinja2>=2.7.2 in /usr/local/lib/python3.7/dist-packages (from pyLDAvis) (2.11.3)\n",
            "Requirement already satisfied: future in /usr/local/lib/python3.7/dist-packages (from pyLDAvis) (0.16.0)\n",
            "Requirement already satisfied: funcy in /usr/local/lib/python3.7/dist-packages (from pyLDAvis) (1.15)\n",
            "Requirement already satisfied: pytz>=2017.2 in /usr/local/lib/python3.7/dist-packages (from pandas>=0.17.0; python_version > \"3.5\"->pyLDAvis) (2018.9)\n",
            "Requirement already satisfied: python-dateutil>=2.7.3 in /usr/local/lib/python3.7/dist-packages (from pandas>=0.17.0; python_version > \"3.5\"->pyLDAvis) (2.8.1)\n",
            "Requirement already satisfied: MarkupSafe>=0.23 in /usr/local/lib/python3.7/dist-packages (from jinja2>=2.7.2->pyLDAvis) (1.1.1)\n",
            "Requirement already satisfied: six>=1.5 in /usr/local/lib/python3.7/dist-packages (from python-dateutil>=2.7.3->pandas>=0.17.0; python_version > \"3.5\"->pyLDAvis) (1.15.0)\n",
            "Requirement already satisfied: transformers in /usr/local/lib/python3.7/dist-packages (4.3.3)\n",
            "Requirement already satisfied: packaging in /usr/local/lib/python3.7/dist-packages (from transformers) (20.9)\n",
            "Requirement already satisfied: regex!=2019.12.17 in /usr/local/lib/python3.7/dist-packages (from transformers) (2019.12.20)\n",
            "Requirement already satisfied: tqdm>=4.27 in /usr/local/lib/python3.7/dist-packages (from transformers) (4.41.1)\n",
            "Requirement already satisfied: filelock in /usr/local/lib/python3.7/dist-packages (from transformers) (3.0.12)\n",
            "Requirement already satisfied: importlib-metadata; python_version < \"3.8\" in /usr/local/lib/python3.7/dist-packages (from transformers) (3.7.0)\n",
            "Requirement already satisfied: sacremoses in /usr/local/lib/python3.7/dist-packages (from transformers) (0.0.43)\n",
            "Requirement already satisfied: requests in /usr/local/lib/python3.7/dist-packages (from transformers) (2.23.0)\n",
            "Requirement already satisfied: numpy>=1.17 in /usr/local/lib/python3.7/dist-packages (from transformers) (1.19.5)\n",
            "Requirement already satisfied: tokenizers<0.11,>=0.10.1 in /usr/local/lib/python3.7/dist-packages (from transformers) (0.10.1)\n",
            "Requirement already satisfied: pyparsing>=2.0.2 in /usr/local/lib/python3.7/dist-packages (from packaging->transformers) (2.4.7)\n",
            "Requirement already satisfied: typing-extensions>=3.6.4; python_version < \"3.8\" in /usr/local/lib/python3.7/dist-packages (from importlib-metadata; python_version < \"3.8\"->transformers) (3.7.4.3)\n",
            "Requirement already satisfied: zipp>=0.5 in /usr/local/lib/python3.7/dist-packages (from importlib-metadata; python_version < \"3.8\"->transformers) (3.4.0)\n",
            "Requirement already satisfied: click in /usr/local/lib/python3.7/dist-packages (from sacremoses->transformers) (7.1.2)\n",
            "Requirement already satisfied: six in /usr/local/lib/python3.7/dist-packages (from sacremoses->transformers) (1.15.0)\n",
            "Requirement already satisfied: joblib in /usr/local/lib/python3.7/dist-packages (from sacremoses->transformers) (1.0.1)\n",
            "Requirement already satisfied: chardet<4,>=3.0.2 in /usr/local/lib/python3.7/dist-packages (from requests->transformers) (3.0.4)\n",
            "Requirement already satisfied: urllib3!=1.25.0,!=1.25.1,<1.26,>=1.21.1 in /usr/local/lib/python3.7/dist-packages (from requests->transformers) (1.24.3)\n",
            "Requirement already satisfied: idna<3,>=2.5 in /usr/local/lib/python3.7/dist-packages (from requests->transformers) (2.10)\n",
            "Requirement already satisfied: certifi>=2017.4.17 in /usr/local/lib/python3.7/dist-packages (from requests->transformers) (2020.12.5)\n",
            "[nltk_data] Downloading package stopwords to /root/nltk_data...\n",
            "[nltk_data]   Package stopwords is already up-to-date!\n",
            "[nltk_data] Downloading package punkt to /root/nltk_data...\n",
            "[nltk_data]   Package punkt is already up-to-date!\n",
            "[nltk_data] Downloading package wordnet to /root/nltk_data...\n",
            "[nltk_data]   Package wordnet is already up-to-date!\n",
            "Requirement already satisfied: gensim==3.8.0 in /usr/local/lib/python3.7/dist-packages (3.8.0)\n",
            "Requirement already satisfied: six>=1.5.0 in /usr/local/lib/python3.7/dist-packages (from gensim==3.8.0) (1.15.0)\n",
            "Requirement already satisfied: scipy>=0.18.1 in /usr/local/lib/python3.7/dist-packages (from gensim==3.8.0) (1.4.1)\n",
            "Requirement already satisfied: numpy>=1.11.3 in /usr/local/lib/python3.7/dist-packages (from gensim==3.8.0) (1.19.5)\n",
            "Requirement already satisfied: smart-open>=1.7.0 in /usr/local/lib/python3.7/dist-packages (from gensim==3.8.0) (4.2.0)\n"
          ],
          "name": "stdout"
        }
      ]
    },
    {
      "cell_type": "markdown",
      "metadata": {
        "id": "975G24jwIdcw"
      },
      "source": [
        "* Eliminate punctuations and special characters\r\n",
        "* Remove stopwords\r\n",
        "* Convert everything to lowercase\r\n",
        "* Tokenize\r\n",
        "* Lemmatize"
      ]
    },
    {
      "cell_type": "code",
      "metadata": {
        "colab": {
          "base_uri": "https://localhost:8080/"
        },
        "id": "AMkbuCkmAk3x",
        "outputId": "dbe75d07-2496-4187-f68e-f645e3fa619b"
      },
      "source": [
        "## reading in the PDF file\r\n",
        "with pdfplumber.open(r'/content/drive/MyDrive/Non Disclosure agreemnet.pdf') as pdf:\r\n",
        "  no_of_pages = len(pdf.pages)\r\n",
        "  print(\"The total number of pages of the document are: \"+ str(no_of_pages))\r\n",
        " \r\n",
        " \r\n",
        "for i in range(no_of_pages):\r\n",
        "  with pdfplumber.open(r'/content/drive/MyDrive/Non Disclosure agreemnet.pdf') as pdf:\r\n",
        "    page_content = pdf.pages[i]\r\n",
        "    globals()['page%s' %i] = page_content.extract_text()\r\n",
        "\r\n",
        "page0 = page0.replace(\"\\nCreate your own automated PDFs with JotForm PDF Editor\",\"\")\r\n",
        "page1 = page1.replace(\"\\nCreate your own automated PDFs with JotForm PDF Editor\",\"\")\r\n",
        "page2 = page2.replace(\"\\nCreate your own automated PDFs with JotForm PDF Editor\",\"\")\r\n",
        "page3 = page3.replace(\"\\nIN WITNESS WHEREOF, the Parties have set their hands on the date specified.\\nReceiving Party Disclosing Party\\nPraesent id ABC Company\\n20 International P, Worce, Ma, 01654 291 Arbutus Drive, Miami, FL, 12345 \\nUnited States United States\\nRepresentative:  Representative: \\nMeggy Ciepluch John Smith\\nSignature:\\nSignature: \\nDate Signed: 11/11/1996 Date Signed: 11/11/1996\\nCreate your own automated PDFs with JotForm PDF Editor 4\",\"\")\r\n",
        " \r\n",
        "for i in range (no_of_pages):\r\n",
        "  text = globals()['page%s' %i]\r\n",
        "  text = text.replace('\\n',' ')\r\n",
        "  text = re.sub(r\"(XI+V*.)*(VI*.)*(I?X.)*(II+.)*\",\"\",text)\r\n",
        "  text = text.lower()\r\n",
        "  text = re.sub(r\"[,.\\'!@#$%^&*(){}?/;`~:<>+=-]\",\"\",text)\r\n",
        "  text = re.sub(r\"[\\\"]\",\"\",text)\r\n",
        "  text = re.sub(r\"\\d\",\"\",text)\r\n",
        "  text = re.sub(r\"(XI+V*.)*(VI*.)*(I?X.)*(II+.)*\",\"\",text)\r\n",
        "  stop_words = stopwords.words('english')\r\n",
        "  word_tokens = word_tokenize(text)\r\n",
        "  tokens_without_sw = [word for word in word_tokens if not word in stopwords.words()]\r\n",
        "  filtered_text = (\" \").join(tokens_without_sw)\r\n",
        "  lemmatizer = WordNetLemmatizer() \r\n",
        "  word_tokens = word_tokenize(filtered_text)\r\n",
        "  lemmatized_string = ' '.join([lemmatizer.lemmatize(words) for words in word_tokens])\r\n",
        "  final_list = word_tokenize(lemmatized_string)\r\n",
        "  globals()['page%s' %i] = final_list\r\n",
        " \r\n",
        "doc_list = [page0,page1,page2,page3]\r\n",
        " \r\n",
        "print(doc_list)"
      ],
      "execution_count": 2,
      "outputs": [
        {
          "output_type": "stream",
          "text": [
            "The total number of pages of the document are: 4\n",
            "[['disclosure', 'agreement', 'disclosure', 'confidentiality', 'agreement', 'agreement', 'entered', 'abc', 'company', 'hereinafter', 'known', 'disclosing', 'party', 'undersigned', 'receiving', 'party', 'receiving', 'party', 'collectively', 'party', 'known', 'party', 'whereas', 'disclosing', 'party', 'shall', 'disclose', 'deliver', 'tangible', 'intangible', 'information', 'receiving', 'party', 'may', 'considered', 'confidential', 'proprietary', 'information', 'whereas', 'disclosing', 'party', 'desire', 'assured', 'proprietary', 'information', 'owned', 'shall', 'disclosed', 'third', 'party', 'without', 'consent', 'shall', 'maintained', 'protected', 'receiving', 'party', 'therefore', 'consideration', 'mutual', 'promise', 'covenant', 'included', 'agreement', 'party', 'agree', 'follows', 'definition', 'confidential', 'information', 'shall', 'refer', 'kind', 'information', 'whether', 'oral', 'written', 'made', 'provided', 'disclosing', 'party', 'receiving', 'party', 'vice', 'versa', 'could', 'written', 'oral', 'communication', 'may', 'refer', 'patent', 'copyright', 'trademark', 'trade', 'secret', 'information', 'agreement', 'declared', 'constituted', 'confidential', 'disclosing', 'party', 'regardless', 'whether', 'information', 'provided', 'date', 'agreement', 'shall', 'limited', 'following', 'marketing', 'development', 'information', 'includes', 'plan', 'disclosing', 'party', 'marketing', 'agenda', 'business', 'development', 'may', 'involve', 'costing', 'policy', 'quote', 'forecast', 'strategy', 'business', 'operation', 'information', 'refers', 'information', 'business', 'operation', 'party', 'disclosing', 'information', 'including', 'number', 'personnel', 'financial', 'activity', 'within', 'information', 'vendor', 'provider', 'partner', 'openly', 'declared', 'party', 'public', 'product', 'information', 'refers', 'specification', 'product', 'produced', 'disclosing', 'party', 'well', 'product', 'resulting', 'related', 'work', 'project', 'performed', 'performed', 'disclosing', 'party', 'client', 'information', 'product', 'research', 'development', 'manufacturing', 'production', 'process', 'includes', 'identified', 'process', 'systematic', 'creation', 'product', 'output', 'manufacturing', 'production', 'limited', 'formula', 'technical', 'procedure', 'method', 'technique', 'specification', 'including', 'used', 'device', 'equipment', 'design', 'model', 'software', 'file', 'used', 'manufacturing', 'product', 'may', 'likewise', 'refer', 'proprietary', 'information', 'service', 'information', 'refers', 'information', 'relating', 'service', 'provided', 'disclosing', 'party', 'limited', 'manpower', 'scheduling', 'training', 'maintenance', 'intellectual', 'property', 'refers', 'information', 'creation', 'mind', 'invention', 'design', 'symbol', 'name', 'image', 'created', 'commerce', 'limited', 'logo', 'computer', 'code', 'algorithm', 'humanreadable', 'machinereadable', 'form', 'report', 'technical', 'design', 'database', 'structure', 'chart', 'document', 'design', 'specification', 'including', 'music', 'may', 'subject', 'copyright'], ['technology', 'refers', 'technical', 'scientific', 'information', 'material', 'produced', 'formulation', 'made', 'disclosing', 'party', 'information', 'publicly', 'used', 'including', 'use', 'machine', 'appliance', 'component', 'including', 'documented', 'scientific', 'process', 'accounting', 'information', 'includes', 'financial', 'report', 'worksheet', 'balance', 'sheet', 'undisclosed', 'asset', 'liability', 'inventory', 'payroll', 'information', 'may', 'relate', 'financial', 'activity', 'information', 'disclosed', 'disclosure', 'consented', 'disclosing', 'party', 'confidential', 'information', 'may', 'likewise', 'include', 'information', 'disclosed', 'party', 'disclosing', 'party', 'protected', 'nondisclosure', 'agreement', 'accidentally', 'incidentally', 'acquired', 'receiving', 'party', 'whether', 'directly', 'indirectly', 'obligation', 'receiving', 'party', 'upon', 'acquiring', 'confidential', 'information', 'shall', 'hold', 'trust', 'confidence', 'information', 'possessed', 'said', 'party', 'shall', 'disclose', 'party', 'use', 'benefit', 'without', 'consent', 'disclosing', 'party', 'receiving', 'party', 'may', 'disassemble', 'decompile', 'reverse', 'engineer', 'product', 'prototype', 'source', 'code', 'software', 'object', 'shared', 'provided', 'disclosing', 'party', 'may', 'contain', 'confidential', 'information', 'provided', 'receiving', 'party', 'purpose', 'agreement', 'receiving', 'party', 'shall', 'likewise', 'make', 'copy', 'said', 'information', 'unless', 'consent', 'given', 'disclosing', 'party', 'clause', 'shall', 'survive', 'continue', 'expiration', 'termination', 'agreement', 'exclusion', 'confidential', 'information', 'receiving', 'party', 'shall', 'need', 'consent', 'disclosing', 'party', 'share', 'disclose', 'copy', 'confidential', 'information', 'case', 'confidential', 'information', 'time', 'disclosure', 'information', 'already', 'publicly', 'known', 'information', 'received', 'receiving', 'party', 'already', 'known', 'receiving', 'party', 'prior', 'disclosure', 'confidential', 'information', 'obtained', 'receiving', 'party', 'rightfully', 'party', 'disclosing', 'party', 'without', 'reason', 'believe', 'third', 'party', 'obligation', 'agreement', 'disclosing', 'party', 'confidential', 'information', 'developed', 'recipient', 'without', 'reference', 'dependence', 'disclosing', 'party', 'confidential', 'information', 'noncompete', 'effectivity', 'within', 'five', 'year', 'expiration', 'agreement', 'receiving', 'party', 'understands', 'agrees', 'involved', 'directly', 'indirectly', 'activity', 'competition', 'disclosing', 'party'], ['return', 'confidential', 'information', 'upon', 'termination', 'agreement', 'andor', 'upon', 'request', 'disclosing', 'party', 'confidential', 'information', 'disclosed', 'agreement', 'shall', 'returned', 'disclosing', 'party', 'physical', 'record', 'hardcopy', 'material', 'print', 'medium', 'physical', 'material', 'containing', 'confidential', 'information', 'shall', 'delivered', 'return', 'disclosing', 'party', 'digital', 'record', 'shall', 'deleted', 'copy', 'shall', 'retained', 'receiving', 'party', 'case', 'impossibility', 'delivery', 'confidential', 'information', 'receiving', 'party', 'disclosing', 'party', 'party', 'may', 'unanimously', 'elect', 'destruction', 'record', 'document', 'whether', 'physical', 'digital', 'containing', 'confidential', 'information', 'case', 'destruction', 'confidential', 'information', 'destruction', 'shall', 'certified', 'writing', 'disclosing', 'party', 'destruction', 'confidential', 'information', 'presence', 'duly', 'authorized', 'representative', 'disclosing', 'party', 'andor', 'recipient', '’', 'duly', 'authorized', 'officer', 'ownership', 'disclosure', 'agreement', 'transferable', 'written', 'content', 'party', 'needed', 'order', 'transfer', 'agreement', 'party', 'acknowledges', 'party', 'shall', 'maintain', 'exclusive', 'ownership', 'confidential', 'information', 'except', 'otherwise', 'falling', 'found', 'exclusion', 'confidential', 'information', 'clause', 'neither', 'party', 'may', 'obtain', 'right', 'whatsoever', 'license', 'otherwise', 'party', 'confidential', 'information', 'unless', 'otherwise', 'consent', 'provided', 'party', 'recommendation', 'information', 'made', 'receiving', 'party', 'disclosing', 'party', 'shall', 'incorporated', 'confidential', 'information', 'disclosing', 'party', 'shall', 'form', 'part', 'disclosing', 'party', 'confidential', 'information', 'assignment', 'neither', 'party', 'may', 'assign', 'delegate', 'right', 'delegate', 'obligation', 'hereunder', 'without', 'prior', 'written', 'consent', 'party', 'general', 'addition', 'modification', 'agreement', 'must', 'made', 'writing', 'signed', 'party', 'effectivity', 'date', 'agreement', 'execution', 'date', 'warranty', 'disclosing', 'party', 'make', 'representation', 'warranty', 'whatsoever', 'receiving', 'party', 'accuracy', 'completeness', 'performance', 'confidential', 'information', 'party', 'shall', 'become', 'liable', 'use', 'confidential', 'information', 'injunctive', 'relief', 'party', 'agree', 'event', 'breach', 'due', 'careless', 'handling', 'confidential', 'information', 'aggrieved', 'party', 'shall', 'entitled', 'seek', 'injunctive', 'relief', 'protection', 'party', 'incurring', 'damage', 'may', 'result', 'irreparable', 'injury'], ['counterpart', 'party', 'may', 'execute', 'agreement', 'multiple', 'counterpart', 'original', 'shall', 'constitute', 'instrument', 'entire', 'agreement', 'agreement', 'understood', 'complete', 'agreement', 'party', 'hereto', 'shall', 'supersede', 'prior', 'agreement', 'discussion', 'relating', 'subject', 'matter', 'hereof', 'amendment', 'modification', 'alteration', 'made', 'agreement', 'shall', 'require', 'affirmation', 'party', 'agreement', 'signed', 'said', 'party', 'hereto', 'separability', 'clause', 'provision', 'hereto', 'held', 'invalid', 'competent', 'court', 'invalidity', 'shall', 'affect', 'said', 'provision', 'remaining', 'provision', 'shall', 'continue', 'valid', 'enforceable', 'governing', 'law', 'agreement', 'shall', 'governed', 'construed', 'accordance', 'law', 'united', 'state', 'exclusion', 'state', 'law', 'without', 'regard', 'conflict', 'law', 'provision', 'dispute', 'arising', 'agreement', 'shall', 'filed', 'court', 'united', 'state', 'party', 'hereby', 'consent', 'jurisdiction', 'said', 'court', 'waif', 'objection', 'may', 'time', 'jurisdiction', 'court', 'laying', 'venue', 'court', 'convenience', 'forum']]\n"
          ],
          "name": "stdout"
        }
      ]
    },
    {
      "cell_type": "code",
      "metadata": {
        "colab": {
          "base_uri": "https://localhost:8080/"
        },
        "id": "3H64JVjnJKbI",
        "outputId": "ac8f37dc-9b17-4c71-d253-ca4d6b8e667e"
      },
      "source": [
        "for i in range(no_of_pages):\r\n",
        "  with pdfplumber.open(r'/content/drive/MyDrive/Non Disclosure agreemnet.pdf') as pdf:\r\n",
        "    page_content = pdf.pages[i]\r\n",
        "    globals()['page%s' %i] = page_content.extract_text()\r\n",
        "    print(globals()['page%s' %i] )"
      ],
      "execution_count": 3,
      "outputs": [
        {
          "output_type": "stream",
          "text": [
            "Non Disclosure Agreement\n",
            "This Non Disclosure and Confidentiality Agreement (\"Agreement\") is entered into by and between ABC \n",
            "Company, hereinafter known as the \"Disclosing Party\", and the undersigned receiving party (the \"Receiving \n",
            "Party\"), and collectively both parties known as \"Parties\".\n",
            "WHEREAS, the Disclosing Party shall disclose or deliver tangible or intangible information to the Receiving \n",
            "party that may be considered confidential or proprietary information;\n",
            "WHEREAS, the Disclosing Party desires to be assured that the proprietary information owned by them shall \n",
            "not be disclosed to any third party without their consent and shall be maintained and protected by the \n",
            "Receiving Party;\n",
            "NOW, THEREFORE, in consideration of the mutual promises and covenants included in this agreement, both \n",
            "parties agree as follows:\n",
            "I. Definition. \n",
            "Confidential Information shall refer to any kind of information whether oral or written made by or provided \n",
            "for by the Disclosing Party to the Receiving Party or vice versa. It could be written or in oral communication \n",
            "that may refer to any patent, copyright, trademark, or trade secret. The information under this agreement to be \n",
            "declared or constituted as Confidential by the Disclosing Party, regardless of whether such information was \n",
            "provided before or after the date of this Agreement shall be, but not limited to the following:\n",
            "1. Marketing and Development Information - This includes plans of the Disclosing Party about \n",
            "marketing agenda or business developments and may involve costing, policies, quotes, forecasts, and \n",
            "strategies.\n",
            "2. Business Operations Information - This refers to any information about the business operations of \n",
            "the party disclosing the information, including the number of personnel, the financial activities within, \n",
            "the information on vendors, providers, and partners that are not openly declared by the Party to the \n",
            "public.\n",
            "3. Product Information - This refers to all specifications for products produced by the Disclosing \n",
            "Party as well as the products resulting from or related to work or projects performed or to be performed \n",
            "for  the  Disclosing  Party  or  for  its  clients,  or  information  about  the  product  during  research  and \n",
            "development;\n",
            "4.  Manufacturing  and  Production  Processes  -  This  includes  identified  processes  and  systematic \n",
            "creation of product output such as manufacturing or production such as, but not limited to formulas, \n",
            "technical procedures, methods, techniques, specifications, including the used devices and equipment, \n",
            "designs,  models,  or  software  files  used  for  manufacturing  products.  This  may  likewise  refer  to \n",
            "Proprietary Information;\n",
            "5. Service Information - This refers to information relating to services provided by the Disclosing \n",
            "Party such as but not limited to manpower scheduling, training, and maintenance;\n",
            "6. Intellectual Property - This refers to all information creation of the mind such as inventions, designs, \n",
            "symbols, names, and images created for commerce, such as but not limited to logos, computer codes and \n",
            "algorithms both in human-readable and machine-readable form, reports, technical designs, database \n",
            "structure, charts, and other document design specifications, including music which may be subject to \n",
            "copyright.\n",
            "Create your own automated PDFs with JotForm PDF Editor 1\n",
            "7. Technology - This refers to all technical and scientific information and materials produced from \n",
            "formulation  made  by  the  Disclosing  Party  and  by  which  information  has  not  been  publicly  used, \n",
            "including to use of any machine, appliance, or components, including the documented scientific process.\n",
            "8. Accounting Information - This includes all financial reports, worksheets, balance sheets, undisclosed \n",
            "assets and liabilities, inventories, payroll, and any other information that may relate to a financial activity \n",
            "and by which information is not disclosed or that such disclosure has not been consented by the \n",
            "Disclosing Party. \n",
            "Confidential Information may likewise include any information disclosed by any party to the Disclosing Party \n",
            "that is protected by a non-disclosure agreement and by which has been accidentally, incidentally, or acquired \n",
            "by the Receiving Party whether directly or indirectly.\n",
            "II. Obligations. \n",
            "The Receiving Party, upon acquiring the confidential information shall hold in trust and confidence the \n",
            "information possessed by said party and shall not disclose it to any other party or use it for its own benefit or \n",
            "any other without the consent of the Disclosing Party. \n",
            "The Receiving Party may not disassemble, decompile, or reverse engineer products, prototypes, source \n",
            "codes, software, or any other objects that have been shared or provided for by Disclosing Party's that may \n",
            "contain Confidential Information and that are provided to the Receiving Party for purposes under this \n",
            "agreement.\n",
            "The Receiving Party shall not likewise make copies, of said information unless consent has been given by the \n",
            "Disclosing Party.\n",
            "This clause shall survive and continue during and after the expiration or termination of this Agreement.\n",
            "III. Exclusions From Confidential Information. \n",
            "The Receiving Party shall not need the consent of the Disclosing Party to share, disclose, or copy the \n",
            "Confidential Information in cases where:\n",
            "1. The Confidential Information, at the time of disclosure, such information is already publicly known;\n",
            "2. Information received by the Receiving Party has already been known by the Receiving Party prior to \n",
            "its disclosure;\n",
            "3. The Confidential Information has been obtained by Receiving Party rightfully from any other party \n",
            "other than the Disclosing Party and without reason to believe that the third party is under any obligation \n",
            "or has an agreement with the Disclosing Party;\n",
            "4. The Confidential Information was developed by Recipient without reference or dependence to the \n",
            "Disclosing Party's Confidential Information.\n",
            "IV. Non-Compete. \n",
            "During the effectivity and within five (5) years after the expiration of this agreement, the Receiving Party \n",
            "understands and agrees to not be involved directly or indirectly, in activities that are in competition with the \n",
            "Disclosing Party.\n",
            "Create your own automated PDFs with JotForm PDF Editor 2\n",
            "V. Return of Confidential Information. \n",
            "Upon termination of this Agreement and/or upon request of the Disclosing Party, all Confidential Information \n",
            "disclosed under this Agreement shall be returned to the Disclosing Party. Physical records, or any hardcopy \n",
            "material, print media, or any other physical materials containing Confidential Information shall be delivered \n",
            "or return to the Disclosing Party. Digital records shall be deleted and no copies shall be retained by the \n",
            "Receiving Party.\n",
            "In case of impossibility of the delivery of Confidential Information by the Receiving Party to the Disclosing \n",
            "Party, the parties may unanimously elect for the destruction of any records, documents, whether physical or \n",
            "digital containing the Confidential Information.\n",
            "In case of destruction of Confidential Information, destruction shall be certified in writing to the Disclosing \n",
            "Party  after  the  destruction  of  such  Confidential  Information  before  the  presence  of  a  duly  authorized \n",
            "representative of the Disclosing Party and/or by one of Recipient’s duly authorized officers.\n",
            "VI. Ownership. \n",
            "This Non Disclosure Agreement is not transferable. The written content of both parties is needed in order to \n",
            "transfer this Agreement.\n",
            "The Parties acknowledges that each party shall maintain its exclusive ownership over its own Confidential \n",
            "Information except as otherwise falling under the found in the Exclusions from Confidential Information \n",
            "clause. \n",
            "Neither  party  may  obtain  rights  whatsoever,  by  license  or  otherwise,  in  the  other  party's  Confidential \n",
            "Information unless otherwise with consent provided for by the other party. Any recommendation of any \n",
            "information made by the Receiving Party to the Disclosing Party that shall be incorporated to the Confidential \n",
            "Information of the Disclosing Party shall form part of the Disclosing party's Confidential Information.\n",
            "VII. Assignment.\n",
            "Neither party may assign or delegate any of its rights, or delegate any of its obligations hereunder, without the \n",
            "prior written consent of the other party. \n",
            "VIII. General. \n",
            "All additions or modifications to this Agreement must be made in writing and signed by both parties. The \n",
            "effectivity date of this Agreement is the same as the execution date.\n",
            "IX. Warranties.\n",
            "The Disclosing Party makes no representation or warranties whatsoever to the Receiving Party as to the \n",
            "accuracy, completeness, or performance of any such Confidential Information. No party shall become liable \n",
            "for the use of the Confidential Information. \n",
            "X. Injunctive Relief.\n",
            "The Parties agree that in the event of any breach due to careless handling of the Confidential Information, the \n",
            "aggrieved party shall be entitled to seek injunctive relief for the protection of such party from incurring \n",
            "further damage or which may result to an irreparable injury.\n",
            "Create your own automated PDFs with JotForm PDF Editor 3\n",
            "XI. Counterparts.\n",
            "The Parties may execute this agreement in multiple counterparts, each of which is an original but all of which \n",
            "shall constitute one and the same instrument.\n",
            "XII. Entire Agreement.\n",
            "This Agreement is understood to be the complete agreement of the parties hereto and shall supersede any \n",
            "prior agreements and discussions relating to the subject matter hereof. Any amendments, modifications, or \n",
            "alterations made in this agreement shall require the affirmation by both parties to this Agreement and signed \n",
            "by said parties hereto.\n",
            "XIII. Separability Clause.\n",
            "Should any of the provisions hereto be held invalid by any competent court, such invalidity shall affect only \n",
            "the said provision and the remaining provisions shall continue to be valid and enforceable.\n",
            "XIV. Governing Laws. \n",
            "This Agreement shall be governed and construed in accordance with the laws of the United States, to the \n",
            "exclusion of other state laws and without any regard to its conflicts of laws provisions.\n",
            "Any disputes arising from in this agreement shall be filed with courts of the United States.\n",
            "Each party hereby consents to the jurisdiction of said courts and waives any objection which they may have at \n",
            "any time to the jurisdiction of such courts, the laying of venue in such courts or the convenience of the forum.\n",
            "IN WITNESS WHEREOF, the Parties have set their hands on the date specified.\n",
            "Receiving Party Disclosing Party\n",
            "Praesent id ABC Company\n",
            "20 International P, Worce, Ma, 01654 291 Arbutus Drive, Miami, FL, 12345 \n",
            "United States United States\n",
            "Representative:  Representative: \n",
            "Meggy Ciepluch John Smith\n",
            "Signature:\n",
            "Signature: \n",
            "Date Signed: 11/11/1996 Date Signed: 11/11/1996\n",
            "Create your own automated PDFs with JotForm PDF Editor 4\n"
          ],
          "name": "stdout"
        }
      ]
    },
    {
      "cell_type": "code",
      "metadata": {
        "colab": {
          "base_uri": "https://localhost:8080/"
        },
        "id": "dGVlnB6WAtvR",
        "outputId": "61f4e58b-b34a-4e86-8c4a-e459c0f93d02"
      },
      "source": [
        "doc = [str(\" \".join(i)) for i in doc_list]\r\n",
        "doc"
      ],
      "execution_count": 4,
      "outputs": [
        {
          "output_type": "execute_result",
          "data": {
            "text/plain": [
              "['disclosure agreement disclosure confidentiality agreement agreement entered abc company hereinafter known disclosing party undersigned receiving party receiving party collectively party known party whereas disclosing party shall disclose deliver tangible intangible information receiving party may considered confidential proprietary information whereas disclosing party desire assured proprietary information owned shall disclosed third party without consent shall maintained protected receiving party therefore consideration mutual promise covenant included agreement party agree follows definition confidential information shall refer kind information whether oral written made provided disclosing party receiving party vice versa could written oral communication may refer patent copyright trademark trade secret information agreement declared constituted confidential disclosing party regardless whether information provided date agreement shall limited following marketing development information includes plan disclosing party marketing agenda business development may involve costing policy quote forecast strategy business operation information refers information business operation party disclosing information including number personnel financial activity within information vendor provider partner openly declared party public product information refers specification product produced disclosing party well product resulting related work project performed performed disclosing party client information product research development manufacturing production process includes identified process systematic creation product output manufacturing production limited formula technical procedure method technique specification including used device equipment design model software file used manufacturing product may likewise refer proprietary information service information refers information relating service provided disclosing party limited manpower scheduling training maintenance intellectual property refers information creation mind invention design symbol name image created commerce limited logo computer code algorithm humanreadable machinereadable form report technical design database structure chart document design specification including music may subject copyright',\n",
              " 'technology refers technical scientific information material produced formulation made disclosing party information publicly used including use machine appliance component including documented scientific process accounting information includes financial report worksheet balance sheet undisclosed asset liability inventory payroll information may relate financial activity information disclosed disclosure consented disclosing party confidential information may likewise include information disclosed party disclosing party protected nondisclosure agreement accidentally incidentally acquired receiving party whether directly indirectly obligation receiving party upon acquiring confidential information shall hold trust confidence information possessed said party shall disclose party use benefit without consent disclosing party receiving party may disassemble decompile reverse engineer product prototype source code software object shared provided disclosing party may contain confidential information provided receiving party purpose agreement receiving party shall likewise make copy said information unless consent given disclosing party clause shall survive continue expiration termination agreement exclusion confidential information receiving party shall need consent disclosing party share disclose copy confidential information case confidential information time disclosure information already publicly known information received receiving party already known receiving party prior disclosure confidential information obtained receiving party rightfully party disclosing party without reason believe third party obligation agreement disclosing party confidential information developed recipient without reference dependence disclosing party confidential information noncompete effectivity within five year expiration agreement receiving party understands agrees involved directly indirectly activity competition disclosing party',\n",
              " 'return confidential information upon termination agreement andor upon request disclosing party confidential information disclosed agreement shall returned disclosing party physical record hardcopy material print medium physical material containing confidential information shall delivered return disclosing party digital record shall deleted copy shall retained receiving party case impossibility delivery confidential information receiving party disclosing party party may unanimously elect destruction record document whether physical digital containing confidential information case destruction confidential information destruction shall certified writing disclosing party destruction confidential information presence duly authorized representative disclosing party andor recipient ’ duly authorized officer ownership disclosure agreement transferable written content party needed order transfer agreement party acknowledges party shall maintain exclusive ownership confidential information except otherwise falling found exclusion confidential information clause neither party may obtain right whatsoever license otherwise party confidential information unless otherwise consent provided party recommendation information made receiving party disclosing party shall incorporated confidential information disclosing party shall form part disclosing party confidential information assignment neither party may assign delegate right delegate obligation hereunder without prior written consent party general addition modification agreement must made writing signed party effectivity date agreement execution date warranty disclosing party make representation warranty whatsoever receiving party accuracy completeness performance confidential information party shall become liable use confidential information injunctive relief party agree event breach due careless handling confidential information aggrieved party shall entitled seek injunctive relief protection party incurring damage may result irreparable injury',\n",
              " 'counterpart party may execute agreement multiple counterpart original shall constitute instrument entire agreement agreement understood complete agreement party hereto shall supersede prior agreement discussion relating subject matter hereof amendment modification alteration made agreement shall require affirmation party agreement signed said party hereto separability clause provision hereto held invalid competent court invalidity shall affect said provision remaining provision shall continue valid enforceable governing law agreement shall governed construed accordance law united state exclusion state law without regard conflict law provision dispute arising agreement shall filed court united state party hereby consent jurisdiction said court waif objection may time jurisdiction court laying venue court convenience forum']"
            ]
          },
          "metadata": {
            "tags": []
          },
          "execution_count": 4
        }
      ]
    },
    {
      "cell_type": "markdown",
      "metadata": {
        "id": "D60f15USf-aH"
      },
      "source": [
        "###BART Model"
      ]
    },
    {
      "cell_type": "code",
      "metadata": {
        "id": "xXWZuzgcMKd-"
      },
      "source": [
        "from transformers import pipeline"
      ],
      "execution_count": 29,
      "outputs": []
    },
    {
      "cell_type": "code",
      "metadata": {
        "id": "z67Q6sLcZ1aq"
      },
      "source": [
        "# Initialize the HuggingFace summarization pipeline\r\n",
        "summarizer = pipeline(\"summarization\", model='facebook/bart-large-cnn', tokenizer='facebook/bart-large-cnn')\r\n",
        "summarized = summarizer(doc,min_length = round(0.1 * len(text.split(' '))), max_length = round(0.2 * len(text.split(' '))))"
      ],
      "execution_count": 30,
      "outputs": []
    },
    {
      "cell_type": "code",
      "metadata": {
        "colab": {
          "base_uri": "https://localhost:8080/"
        },
        "id": "00zKR2TZW9hQ",
        "outputId": "3a04f23c-3c61-4cc7-a85f-3d6623f68026"
      },
      "source": [
        "summarized"
      ],
      "execution_count": 31,
      "outputs": [
        {
          "output_type": "execute_result",
          "data": {
            "text/plain": [
              "[{'summary_text': ' disclosure agreement disclosure confidentiality agreement agreement entered abc company hereinafter known disclosing party undersigned receiving party receiving party collectively party known party. disclosing party shall disclose deliver tangible intangible information receiving party may considered confidential proprietary'},\n",
              " {'summary_text': 'Technology refers technical scientific information material produced formulation made disclosing party information publicly used including use machine appliance component including documented scientific process accounting information. disclosing party confidential information may likewise include information disclosed party disclosing party protected nondis'},\n",
              " {'summary_text': 'Party acknowledges party shall maintain exclusive ownership confidential information. return confidential information upon termination agreement andor upon request disclosing party confidential information disclosed agreement. return disclosing party physical record hardcopy material print medium physical material containing confidential'},\n",
              " {'summary_text': ' agreement shall supersede prior agreement discussion relating subject matter hereof. Agreement shall be governed by law united state exclusion state law without regard conflict law provision dispute arising agreement shall filed court united state.'}]"
            ]
          },
          "metadata": {
            "tags": []
          },
          "execution_count": 31
        }
      ]
    },
    {
      "cell_type": "markdown",
      "metadata": {
        "id": "z_hTnZxNf2UA"
      },
      "source": [
        "###T5 Model\r\n"
      ]
    },
    {
      "cell_type": "code",
      "metadata": {
        "colab": {
          "base_uri": "https://localhost:8080/"
        },
        "id": "0BCMUUf8iqRk",
        "outputId": "e9d3fcf5-d1ab-429d-e24d-6d49ce0ad0ef"
      },
      "source": [
        " !pip install sentencepiece"
      ],
      "execution_count": 5,
      "outputs": [
        {
          "output_type": "stream",
          "text": [
            "Requirement already satisfied: sentencepiece in /usr/local/lib/python3.7/dist-packages (0.1.95)\n"
          ],
          "name": "stdout"
        }
      ]
    },
    {
      "cell_type": "code",
      "metadata": {
        "id": "YRvaKCXsZ1V7"
      },
      "source": [
        "from transformers import T5Tokenizer, T5ForConditionalGeneration\r\n",
        "model = T5ForConditionalGeneration.from_pretrained('t5-base')\r\n",
        "tokenizer = T5Tokenizer.from_pretrained('t5-base')\r\n",
        "Preprocessed_text = \"summarize: \" + str(doc)\r\n",
        "tokens_input = tokenizer.encode(Preprocessed_text,return_tensors=\"pt\", max_length=512, truncation=True)\r\n",
        "summary_ids = model.generate(tokens_input,\r\n",
        "                             min_length=60,\r\n",
        "                             max_length=180,\r\n",
        "                             length_penalty=4.0)\r\n",
        "summary = tokenizer.decode(summary_ids[0])\r\n",
        "print(summary)"
      ],
      "execution_count": null,
      "outputs": []
    },
    {
      "cell_type": "code",
      "metadata": {
        "colab": {
          "base_uri": "https://localhost:8080/",
          "height": 85
        },
        "id": "B4TzYuezc3t0",
        "outputId": "a7e6a9ca-6d0e-4dff-9a43-f616a272f9fd"
      },
      "source": [
        "summary"
      ],
      "execution_count": 7,
      "outputs": [
        {
          "output_type": "execute_result",
          "data": {
            "application/vnd.google.colaboratory.intrinsic+json": {
              "type": "string"
            },
            "text/plain": [
              "'<pad> disclosing party shall disclose deliver tangible intangible information whereas disclosing party desire assured proprietary information owned shall disclosed third party without consent shall maintained protected receiving party therefore consideration mutual promise covenant included agreement party agree follows definition confidential information shall refer kind information whether oral written made provided disclosing party receiving party vice versa could written oral communication may refer patent copyright trademark trade secret information agreement declared constituted confidential disclosing party.</s>'"
            ]
          },
          "metadata": {
            "tags": []
          },
          "execution_count": 7
        }
      ]
    },
    {
      "cell_type": "markdown",
      "metadata": {
        "id": "kDixLniXgXlO"
      },
      "source": [
        "###BERT- extractive summarizer\r\n"
      ]
    },
    {
      "cell_type": "code",
      "metadata": {
        "id": "6wXSZISDZ1RG"
      },
      "source": [
        "!pip install bert-extractive-summarizer"
      ],
      "execution_count": null,
      "outputs": []
    },
    {
      "cell_type": "code",
      "metadata": {
        "id": "zC4zc0EaZ1O3"
      },
      "source": [
        "from summarizer import TransformerSummarizer"
      ],
      "execution_count": null,
      "outputs": []
    },
    {
      "cell_type": "code",
      "metadata": {
        "id": "mdCgAmsgaV2N"
      },
      "source": [
        "GPT2_model = TransformerSummarizer(transformer_type=\"GPT2\",transformer_model_key=\"gpt2-medium\")\r\n",
        "summerize = ''.join(GPT2_model(str(doc), min_length=100, max_length=260))\r\n",
        "summerize"
      ],
      "execution_count": null,
      "outputs": []
    },
    {
      "cell_type": "markdown",
      "metadata": {
        "id": "pnTGoid2YusQ"
      },
      "source": [
        "This is Keras model but can't be used for our usecase since we don't have any training data which is necessary for building this model.\r\n"
      ]
    },
    {
      "cell_type": "code",
      "metadata": {
        "id": "ZqlU61TSuPia"
      },
      "source": [
        "# !cp /content/drive/MyDrive/Colab_Notebooks/attention.py .\r\n",
        "# import attention "
      ],
      "execution_count": null,
      "outputs": []
    },
    {
      "cell_type": "code",
      "metadata": {
        "id": "5Uv2CTBRvrA7"
      },
      "source": [
        "# from attention import AttentionLayer"
      ],
      "execution_count": null,
      "outputs": []
    },
    {
      "cell_type": "code",
      "metadata": {
        "id": "T2wvRAFJH68e"
      },
      "source": [
        "# from keras import backend as K \r\n",
        "# K.clear_session() \r\n",
        "# latent_dim = 500 \r\n",
        "\r\n",
        "# # Encoder \r\n",
        "# encoder_inputs = Input(shape=(None,)) \r\n",
        "# enc_emb = Embedding(512,latent_dim,trainable=True)(encoder_inputs) \r\n",
        "\r\n",
        "# #LSTM 1 \r\n",
        "# encoder_lstm1 = LSTM(latent_dim,return_sequences=True,return_state=True) \r\n",
        "# encoder_output1, state_h1, state_c1 = encoder_lstm1(enc_emb) \r\n",
        "\r\n",
        "# #LSTM 2 \r\n",
        "# encoder_lstm2 = LSTM(latent_dim,return_sequences=True,return_state=True) \r\n",
        "# encoder_output2, state_h2, state_c2 = encoder_lstm2(encoder_output1) \r\n",
        "\r\n",
        "# #LSTM 3 \r\n",
        "# encoder_lstm3=LSTM(latent_dim, return_state=True, return_sequences=True) \r\n",
        "# encoder_outputs, state_h, state_c= encoder_lstm3(encoder_output2) \r\n",
        "\r\n",
        "# # Set up the decoder. \r\n",
        "# decoder_inputs = Input(shape=(None,)) \r\n",
        "# dec_emb_layer = Embedding(512,latent_dim,trainable=True) \r\n",
        "# dec_emb = dec_emb_layer(decoder_inputs) \r\n",
        "\r\n",
        "# #LSTM using encoder_states as initial state\r\n",
        "# decoder_lstm = LSTM(latent_dim, return_sequences=True, return_state=True) \r\n",
        "# decoder_outputs,decoder_fwd_state, decoder_back_state = decoder_lstm(dec_emb,initial_state=[state_h, state_c]) \r\n",
        "\r\n",
        "# #Attention Layer\r\n",
        "# attn_layer = AttentionLayer(name='attention_layer') \r\n",
        "# attn_out, attn_states = attn_layer([encoder_outputs, decoder_outputs]) \r\n",
        "\r\n",
        "# # Concat attention output and decoder LSTM output \r\n",
        "# decoder_concat_input = Concatenate(axis=-1, name='concat_layer')([decoder_outputs, attn_out])\r\n",
        "\r\n",
        "# #Dense layer\r\n",
        "# decoder_dense = TimeDistributed(Dense(10,activation='softmax')) \r\n",
        "# decoder_outputs = decoder_dense(decoder_concat_input) \r\n",
        "\r\n",
        "# # Define the model\r\n",
        "# model = Model([encoder_inputs, decoder_inputs], decoder_outputs) \r\n",
        "# model.summary()"
      ],
      "execution_count": null,
      "outputs": []
    },
    {
      "cell_type": "code",
      "metadata": {
        "id": "8DfWlAQgH66E"
      },
      "source": [
        "# model.compile(optimizer='rmsprop', loss='sparse_categorical_crossentropy')"
      ],
      "execution_count": null,
      "outputs": []
    },
    {
      "cell_type": "code",
      "metadata": {
        "id": "s5ZpsUTIH63j"
      },
      "source": [
        "# es = EarlyStopping(monitor='val_loss', mode='min', verbose=1)"
      ],
      "execution_count": null,
      "outputs": []
    },
    {
      "cell_type": "code",
      "metadata": {
        "id": "QjkeNkJJH609"
      },
      "source": [
        ""
      ],
      "execution_count": null,
      "outputs": []
    },
    {
      "cell_type": "code",
      "metadata": {
        "id": "9dMXGEtUH6xv"
      },
      "source": [
        "# import os\r\n",
        "# for dirname, _, filenames in os.walk('/kaggle/input'):\r\n",
        "#     for filename in filenames:\r\n",
        "#         print(os.path.join(dirname, filename))"
      ],
      "execution_count": null,
      "outputs": []
    },
    {
      "cell_type": "code",
      "metadata": {
        "id": "t-MalvyfH6t1"
      },
      "source": [
        "# !pip install transformers\r\n",
        "# from transformers import pipeline\r\n",
        "# classifier = pipeline('summarization', model='/kaggle/input/summarization')"
      ],
      "execution_count": null,
      "outputs": []
    },
    {
      "cell_type": "code",
      "metadata": {
        "id": "JuVinvg2H6rS"
      },
      "source": [
        ""
      ],
      "execution_count": null,
      "outputs": []
    },
    {
      "cell_type": "code",
      "metadata": {
        "id": "3wO4znFnH6on"
      },
      "source": [
        ""
      ],
      "execution_count": null,
      "outputs": []
    },
    {
      "cell_type": "code",
      "metadata": {
        "id": "yRL0sxujH6mA"
      },
      "source": [
        ""
      ],
      "execution_count": null,
      "outputs": []
    },
    {
      "cell_type": "code",
      "metadata": {
        "id": "JPc6q0vNH6jN"
      },
      "source": [
        ""
      ],
      "execution_count": null,
      "outputs": []
    },
    {
      "cell_type": "code",
      "metadata": {
        "id": "miBwjKSpH6gk"
      },
      "source": [
        ""
      ],
      "execution_count": null,
      "outputs": []
    },
    {
      "cell_type": "code",
      "metadata": {
        "id": "tc9YLh96H6eB"
      },
      "source": [
        ""
      ],
      "execution_count": null,
      "outputs": []
    },
    {
      "cell_type": "code",
      "metadata": {
        "id": "UcAovsSNH6bY"
      },
      "source": [
        ""
      ],
      "execution_count": null,
      "outputs": []
    },
    {
      "cell_type": "code",
      "metadata": {
        "id": "8aTK-CjGHPHI"
      },
      "source": [
        ""
      ],
      "execution_count": null,
      "outputs": []
    }
  ]
}